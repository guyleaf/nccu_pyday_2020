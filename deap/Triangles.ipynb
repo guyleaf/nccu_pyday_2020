{
 "cells": [
  {
   "cell_type": "markdown",
   "metadata": {
    "collapsed": true
   },
   "source": [
    "# Generate  circles using evolutionary algorithm\n",
    "\n",
    "The code is based on \n",
    "https://github.com/tjwei/play_nsfw, \n",
    "which is based on https://scturtle.me/posts/2014-04-18-ga.html \n",
    "\n",
    "It depends on DEAP https://deap.readthedocs.io/en/master/"
   ]
  },
  {
   "cell_type": "code",
   "execution_count": null,
   "metadata": {},
   "outputs": [],
   "source": [
    "import multiprocessing\n",
    "from deap import base, creator, tools, algorithms\n",
    "from PIL import Image, ImageDraw\n",
    "from random import randint\n",
    "import skimage"
   ]
  },
  {
   "cell_type": "code",
   "execution_count": null,
   "metadata": {},
   "outputs": [],
   "source": [
    "SIZE_X, SIZE_Y = 256, 256\n",
    "NUMBER_OF_TRIANGLES = 50\n",
    "POPULATION = 50\n",
    "NGEN = 4000\n",
    "POLY = 3"
   ]
  },
  {
   "cell_type": "code",
   "execution_count": null,
   "metadata": {},
   "outputs": [],
   "source": [
    "def gen_one_triangle():\n",
    "    return (tuple([(randint(0, SIZE_X), randint(0, SIZE_Y)) for i in range(POLY)]),\n",
    "            randint(0,255), randint(0,255), randint(0,255), randint(0,128))"
   ]
  },
  {
   "cell_type": "code",
   "execution_count": null,
   "metadata": {},
   "outputs": [],
   "source": [
    "creator.create(\"Fitness\", base.Fitness, weights=(1.0,))  # maximize fitness\n",
    "creator.create(\"Individual\", list, fitness=creator.Fitness)  # individual class\n",
    "\n",
    "toolbox = base.Toolbox()\n",
    "toolbox.register(\"attr\", gen_one_triangle)  # the above function\n",
    "toolbox.register(\"individual\", tools.initRepeat,  # initialization of individual\n",
    "                 creator.Individual, toolbox.attr, NUMBER_OF_TRIANGLES)\n",
    "toolbox.register(\"population\", tools.initRepeat,  # initialization of population\n",
    "                 list, toolbox.individual)"
   ]
  },
  {
   "cell_type": "code",
   "execution_count": null,
   "metadata": {},
   "outputs": [],
   "source": [
    "import numpy as np\n",
    "target_im = Image.open('sample_images/800px-Meisje_met_de_parel.jpg').crop((0,100,800,900)).resize((256,256), Image.LANCZOS)\n",
    "target_array = np.array(target_im, dtype='float')/255.\n",
    "target_im"
   ]
  },
  {
   "cell_type": "code",
   "execution_count": null,
   "metadata": {},
   "outputs": [],
   "source": [
    "def triangles_to_image(triangles):\n",
    "    im = Image.new('RGB', (SIZE_X, SIZE_Y), (0, 0, 0))\n",
    "    for tri in triangles:\n",
    "        mask = Image.new('RGBA', (SIZE_X, SIZE_Y))\n",
    "        draw = ImageDraw.Draw(mask)\n",
    "        draw.polygon(tri[0], fill=tri[1:])\n",
    "        im.paste(mask, mask=mask)\n",
    "        del mask, draw\n",
    "    return im\n",
    "\n",
    "def evaluate(t2):\n",
    "    output_im = triangles_to_image(t2)\n",
    "    output_array = np.array(output_im, dtype='float')/255.\n",
    "    score = skimage.measure.compare_psnr(output_array, target_array, 1.)\n",
    "    #score = skimage.measure.compare_ssim(output_array, target_array, data_range=1., multichannel=True)\n",
    "    return (score,)"
   ]
  },
  {
   "cell_type": "code",
   "execution_count": null,
   "metadata": {},
   "outputs": [],
   "source": [
    "def mutate(triangles):\n",
    "    e0 = triangles.fitness.values\n",
    "    for i in range(10):\n",
    "        tid = randint(0, NUMBER_OF_TRIANGLES - 1)\n",
    "        oldt = triangles[tid]\n",
    "\n",
    "        p = randint(-1, 2 * POLY + 4 - 1)\n",
    "        if p == -1:\n",
    "            tid2 = randint(0, NUMBER_OF_TRIANGLES - 1)\n",
    "            triangles[tid], triangles[tid2] = triangles[tid2], oldt\n",
    "        else:\n",
    "            t = list(oldt)\n",
    "            if p < 2 * POLY:\n",
    "                points = list(t[0])\n",
    "                pnt = list(points[p // 2])\n",
    "                if p%2 == 0:\n",
    "                    pnt[0] = randint(0, SIZE_X)\n",
    "                else:\n",
    "                    pnt[1] = randint(0, SIZE_Y)\n",
    "                points[p // 2] = tuple(pnt)\n",
    "                t[0] = tuple(points)\n",
    "            else:\n",
    "                p -= 2 * POLY - 1\n",
    "                t[p] = randint(0, 255)\n",
    "\n",
    "            triangles[tid] = tuple(t)\n",
    "   \n",
    "        if evaluate(triangles) > e0:\n",
    "            break\n",
    "        else:\n",
    "            if p == -1:\n",
    "                triangles[tid], triangles[tid2] = oldt, triangles[tid]\n",
    "            else:\n",
    "                triangles[tid] = oldt\n",
    "    return [triangles]"
   ]
  },
  {
   "cell_type": "code",
   "execution_count": null,
   "metadata": {},
   "outputs": [],
   "source": [
    "toolbox.register(\"evaluate\", evaluate)\n",
    "toolbox.register(\"mate\", tools.cxTwoPoint)  # crossover\n",
    "toolbox.register(\"mutate\", mutate)  # mutation\n",
    "toolbox.register(\"select\", tools.selTournament, tournsize=3)"
   ]
  },
  {
   "cell_type": "code",
   "execution_count": null,
   "metadata": {},
   "outputs": [],
   "source": [
    "from IPython.display import display, clear_output\n",
    "import numpy as np\n",
    "class ipyHOF(tools.HallOfFame):\n",
    "    def __init__(self, *args, **kwargs):\n",
    "        super().__init__(*args, **kwargs)\n",
    "        self.last_displayed_fitness = -1\n",
    "    def insert(self, item):\n",
    "        if item.fitness.values[0] >= self.last_displayed_fitness+0.001:\n",
    "            self.last_displayed_fitness = item.fitness.values[0]\n",
    "            clear_output(True)\n",
    "            display(triangles_to_image(item))        \n",
    "        super().insert(item)"
   ]
  },
  {
   "cell_type": "code",
   "execution_count": null,
   "metadata": {},
   "outputs": [],
   "source": [
    "pop = toolbox.population(n=POPULATION)\n",
    "hof = ipyHOF(3)\n",
    "stats = tools.Statistics(lambda ind: ind.fitness.values)\n",
    "stats.register(\"std\", np.std)\n",
    "stats.register(\"max\", np.max)\n",
    "stats.register(\"avg\", np.mean)\n",
    "stats.register(\"min\", np.min)\n",
    "\n",
    "# For multiprocessing\n",
    "pool = multiprocessing.Pool()\n",
    "toolbox.register(\"map\", pool.map)"
   ]
  },
  {
   "cell_type": "code",
   "execution_count": null,
   "metadata": {},
   "outputs": [],
   "source": [
    "try:\n",
    "    pop, log = algorithms.eaSimple(pop, toolbox, cxpb=0.5, mutpb=0.1, ngen=NGEN, \n",
    "                               stats=stats, halloffame=hof, verbose=True)\n",
    "except KeyboardInterrupt:\n",
    "    display(triangles_to_image(hof[0]))"
   ]
  },
  {
   "cell_type": "code",
   "execution_count": null,
   "metadata": {},
   "outputs": [],
   "source": [
    "#triangles_to_image(hof[0]).save('sample_results/triangles-50-ssim.png')"
   ]
  },
  {
   "cell_type": "code",
   "execution_count": null,
   "metadata": {},
   "outputs": [],
   "source": [
    "img1 = triangles_to_image(hof[0])\n",
    "img2 = Image.open('sample_results/circle-30.png')"
   ]
  },
  {
   "cell_type": "code",
   "execution_count": null,
   "metadata": {},
   "outputs": [],
   "source": [
    "img3 = np.clip((np.array(img1, dtype='float')+np.array(img2, dtype='float'))/2, 0, 255)\n",
    "img3 = Image.fromarray(img3.astype('uint8'))"
   ]
  },
  {
   "cell_type": "code",
   "execution_count": null,
   "metadata": {},
   "outputs": [],
   "source": [
    "img3"
   ]
  },
  {
   "cell_type": "code",
   "execution_count": null,
   "metadata": {},
   "outputs": [],
   "source": []
  }
 ],
 "metadata": {
  "kernelspec": {
   "display_name": "Python 3",
   "language": "python",
   "name": "python3"
  },
  "language_info": {
   "codemirror_mode": {
    "name": "ipython",
    "version": 3
   },
   "file_extension": ".py",
   "mimetype": "text/x-python",
   "name": "python",
   "nbconvert_exporter": "python",
   "pygments_lexer": "ipython3",
   "version": "3.6.9"
  }
 },
 "nbformat": 4,
 "nbformat_minor": 1
}
